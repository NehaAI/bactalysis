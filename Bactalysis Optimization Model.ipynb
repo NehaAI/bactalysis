{
 "cells": [
  {
   "cell_type": "code",
   "execution_count": 13,
   "id": "727ccb18-d7b4-469c-8dfe-cfba7d1d000e",
   "metadata": {},
   "outputs": [],
   "source": [
    "import pandas as pd\n",
    "import numpy as np\n",
    "from scipy.optimize import minimize"
   ]
  },
  {
   "cell_type": "code",
   "execution_count": 14,
   "id": "320e0811-2181-41ec-a603-c16e7f18f2e9",
   "metadata": {},
   "outputs": [],
   "source": [
    "bactalysisdataset = pd.read_csv('bactalysisdataset.csv')"
   ]
  },
  {
   "cell_type": "code",
   "execution_count": 15,
   "id": "b207d895-b261-40ae-8e3d-502f4029a07b",
   "metadata": {
    "scrolled": true
   },
   "outputs": [],
   "source": [
    "df = pd.DataFrame(bactalysisdataset)\n",
    "df. head()\n",
    "df = df.dropna()"
   ]
  },
  {
   "cell_type": "code",
   "execution_count": 16,
   "id": "09037af0-59a7-44f2-bf14-0a3792a2112f",
   "metadata": {},
   "outputs": [
    {
     "name": "stdout",
     "output_type": "stream",
     "text": [
      "Maximized Power Density: 313.2\n",
      "Optimal Combination of Factors: {'MFC': 'Single-chamber', 'Inoculum/Pretreatment': 'Mixed consortium', 'Substrate': 'Wastewater', 'Electrode': 'Carbon-based'}\n"
     ]
    }
   ],
   "source": [
    "X = df.iloc[:, :-1].values\n",
    "power_density = df.iloc[:, -1].values\n",
    "\n",
    "def objective_function(x, args):\n",
    "    return -np.sum(args[0] * x)\n",
    "\n",
    "bounds = [(0, 1) for _ in range(X.shape[1])]\n",
    "\n",
    "initial_guess = np.zeros(X.shape[1])\n",
    "\n",
    "result = minimize(objective_function, initial_guess, args=(power_density,), bounds=bounds, method='L-BFGS-B')\n",
    "\n",
    "optimized_variables = result.x\n",
    "\n",
    "print(\"Maximized Power Density:\", -result.fun)\n",
    "\n",
    "optimal_combination = df.columns[:-1][optimized_variables.astype(bool)]\n",
    "optimal_values = X[0, optimized_variables.astype(bool)]\n",
    "optimal_factors = dict(zip(optimal_combination, optimal_values))\n",
    "print(\"Optimal Combination of Factors:\", optimal_factors)"
   ]
  },
  {
   "cell_type": "code",
   "execution_count": null,
   "id": "b9ad7815-0803-49e8-ada2-c06b03bf695a",
   "metadata": {},
   "outputs": [],
   "source": []
  },
  {
   "cell_type": "code",
   "execution_count": null,
   "id": "a4431600-ca3b-45a4-8194-376b2b1a634a",
   "metadata": {},
   "outputs": [],
   "source": []
  }
 ],
 "metadata": {
  "kernelspec": {
   "display_name": "Python 3 (ipykernel)",
   "language": "python",
   "name": "python3"
  },
  "language_info": {
   "codemirror_mode": {
    "name": "ipython",
    "version": 3
   },
   "file_extension": ".py",
   "mimetype": "text/x-python",
   "name": "python",
   "nbconvert_exporter": "python",
   "pygments_lexer": "ipython3",
   "version": "3.12.1"
  }
 },
 "nbformat": 4,
 "nbformat_minor": 5
}
